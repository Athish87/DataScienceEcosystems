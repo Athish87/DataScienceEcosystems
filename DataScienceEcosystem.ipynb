{
 "cells": [
  {
   "cell_type": "markdown",
   "id": "6d8bdc8d-82af-45ee-b54e-d1b1d25756a9",
   "metadata": {},
   "source": [
    "# Data Science Tools and Ecosystem"
   ]
  },
  {
   "cell_type": "markdown",
   "id": "116f732c-5ee2-4c35-8247-a543c70ddec8",
   "metadata": {},
   "source": [
    "In this notebook, Data Science Tools and Ecosystem are summarized.\n"
   ]
  },
  {
   "cell_type": "markdown",
   "id": "db238e5b-e80e-497d-8d79-b88dea20bb9d",
   "metadata": {},
   "source": [
    "**Objectives:**\n",
    "- How to create comments in code cell\n",
    "- Difference between markdown cell and code cell\n",
    "- Creating ordered and unordered list in markdown cells\n",
    "- Different styles of text such as bold, italic in markdown cells\n",
    "- Usage of hyperlink in markdown cell\n",
    "- Usage of image in a markdown cell\n"
   ]
  },
  {
   "cell_type": "markdown",
   "id": "c62376a1-8cd7-4564-a064-2d09a65290b5",
   "metadata": {},
   "source": [
    "Some of the popular languages that Data Scientists use are:\n",
    "1. PYTHON\n",
    "2. SQL\n",
    "3. R\n",
    "4. JAVA\n",
    "5. C\n"
   ]
  },
  {
   "cell_type": "markdown",
   "id": "e903b8e6-7964-4c15-994d-71b87b83507f",
   "metadata": {},
   "source": [
    "Some of the commonly used libraries used by Data Scientists include:\n",
    "1. Pandas\n",
    "2. Numpy\n",
    "3. Scipy\n",
    "4. Pytorch\n",
    "5. Matplotlib"
   ]
  },
  {
   "cell_type": "markdown",
   "id": "3fef6a50-739b-4275-9df8-3acc3dfe0dad",
   "metadata": {},
   "source": [
    "| Data Science Tools |\n",
    "|--------------------|\n",
    "| Anaconda |\n",
    "| Jupyter Notebook |\n",
    "| R Studio |\n",
    "| Spyder|"
   ]
  },
  {
   "cell_type": "markdown",
   "id": "ab3f84de-a98b-4576-b343-2151ddbac90a",
   "metadata": {},
   "source": [
    "### Below are a few examples of evaluating arithmetic expressions in Python"
   ]
  },
  {
   "cell_type": "code",
   "execution_count": 1,
   "id": "bc15c82b-7a5b-4b3c-9ac1-290d2fc72c78",
   "metadata": {
    "tags": []
   },
   "outputs": [
    {
     "data": {
      "text/plain": [
       "17"
      ]
     },
     "execution_count": 1,
     "metadata": {},
     "output_type": "execute_result"
    }
   ],
   "source": [
    "#This a simple arithmetic expression to mutiply then add integers\n",
    "(3*4)+5"
   ]
  },
  {
   "cell_type": "code",
   "execution_count": 2,
   "id": "796ee76f-41b5-4c97-aedc-d0aacb7891c7",
   "metadata": {
    "tags": []
   },
   "outputs": [
    {
     "data": {
      "text/plain": [
       "3"
      ]
     },
     "execution_count": 2,
     "metadata": {},
     "output_type": "execute_result"
    }
   ],
   "source": [
    "# This will convert 200 minutes to hours by diving by 60\n",
    "200//60"
   ]
  },
  {
   "cell_type": "markdown",
   "id": "32ff90fc-add7-4a87-83b6-ac211ac13a8f",
   "metadata": {},
   "source": [
    "## Author\n",
    "S R ATHISH VISHNU"
   ]
  },
  {
   "cell_type": "code",
   "execution_count": null,
   "id": "367b53e6-610b-4901-9694-9622b4a4a192",
   "metadata": {},
   "outputs": [],
   "source": []
  }
 ],
 "metadata": {
  "kernelspec": {
   "display_name": "Python",
   "language": "python",
   "name": "conda-env-python-py"
  },
  "language_info": {
   "codemirror_mode": {
    "name": "ipython",
    "version": 3
   },
   "file_extension": ".py",
   "mimetype": "text/x-python",
   "name": "python",
   "nbconvert_exporter": "python",
   "pygments_lexer": "ipython3",
   "version": "3.7.12"
  }
 },
 "nbformat": 4,
 "nbformat_minor": 5
}
